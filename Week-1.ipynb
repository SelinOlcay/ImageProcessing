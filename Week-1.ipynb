{
  "nbformat": 4,
  "nbformat_minor": 0,
  "metadata": {
    "colab": {
      "provenance": [],
      "authorship_tag": "ABX9TyPn3rHqSK39xX0BSZtEGkCq",
      "include_colab_link": true
    },
    "kernelspec": {
      "name": "python3",
      "display_name": "Python 3"
    },
    "language_info": {
      "name": "python"
    }
  },
  "cells": [
    {
      "cell_type": "markdown",
      "metadata": {
        "id": "view-in-github",
        "colab_type": "text"
      },
      "source": [
        "<a href=\"https://colab.research.google.com/github/SelinOlcay/ImageProcessing/blob/main/Week-1.ipynb\" target=\"_parent\"><img src=\"https://colab.research.google.com/assets/colab-badge.svg\" alt=\"Open In Colab\"/></a>"
      ]
    },
    {
      "cell_type": "code",
      "execution_count": 2,
      "metadata": {
        "colab": {
          "base_uri": "https://localhost:8080/"
        },
        "id": "JfuomnlvNQtm",
        "outputId": "baff47b9-350e-482a-f0ec-fcba2c3b8a7b"
      },
      "outputs": [
        {
          "output_type": "stream",
          "name": "stdout",
          "text": [
            "[[1 2 3]\n",
            " [4 5 6]]\n"
          ]
        }
      ],
      "source": [
        "import numpy as np\n",
        "A = np.array([[1,2,3],[4,5,6]])\n",
        "print(A)"
      ]
    },
    {
      "cell_type": "code",
      "source": [
        "array =np.zeros( (3,3) )\n",
        "print(array)"
      ],
      "metadata": {
        "colab": {
          "base_uri": "https://localhost:8080/"
        },
        "id": "XqvmSpVGOCyK",
        "outputId": "1e928809-fb03-48de-81af-e35ffd85797f"
      },
      "execution_count": 6,
      "outputs": [
        {
          "output_type": "stream",
          "name": "stdout",
          "text": [
            "[[0. 0. 0.]\n",
            " [0. 0. 0.]\n",
            " [0. 0. 0.]]\n"
          ]
        }
      ]
    },
    {
      "cell_type": "code",
      "source": [
        "array =np.ones( (2,5) )\n",
        "print(array)"
      ],
      "metadata": {
        "colab": {
          "base_uri": "https://localhost:8080/"
        },
        "id": "rt9oSSJgOGnX",
        "outputId": "c596a770-1194-4248-8a87-d133d5689a9e"
      },
      "execution_count": 7,
      "outputs": [
        {
          "output_type": "stream",
          "name": "stdout",
          "text": [
            "[[1. 1. 1. 1. 1.]\n",
            " [1. 1. 1. 1. 1.]]\n"
          ]
        }
      ]
    },
    {
      "cell_type": "code",
      "source": [
        "n = int(input(\"Kac Adet Sayi Girilecek: \"))\n",
        "a = []\n",
        "for i in range(0,n):\n",
        "    elem = int(input(\"Sayiyi Girin: \"))\n",
        "    a.append(elem)\n",
        "avg = sum(a) / n\n",
        "print(\"Girilen Sayilarin Ortalamasi: \", round(avg,2))"
      ],
      "metadata": {
        "colab": {
          "base_uri": "https://localhost:8080/"
        },
        "id": "hAwr8v1WOJZg",
        "outputId": "0b96253e-a4c3-493e-ffa4-642ee30141f0"
      },
      "execution_count": 5,
      "outputs": [
        {
          "output_type": "stream",
          "name": "stdout",
          "text": [
            "Kac Adet Sayi Girilecek: 5\n",
            "Sayiyi Girin: 4\n",
            "Sayiyi Girin: 5\n",
            "Sayiyi Girin: 6\n",
            "Sayiyi Girin: 3\n",
            "Sayiyi Girin: 4\n",
            "Girilen Sayilarin Ortalamasi:  4.4\n"
          ]
        }
      ]
    }
  ]
}