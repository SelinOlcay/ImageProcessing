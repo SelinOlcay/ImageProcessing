{
  "nbformat": 4,
  "nbformat_minor": 0,
  "metadata": {
    "colab": {
      "provenance": [],
      "authorship_tag": "ABX9TyMjrbU9APdBQUitx457LgbQ",
      "include_colab_link": true
    },
    "kernelspec": {
      "name": "python3",
      "display_name": "Python 3"
    },
    "language_info": {
      "name": "python"
    }
  },
  "cells": [
    {
      "cell_type": "markdown",
      "metadata": {
        "id": "view-in-github",
        "colab_type": "text"
      },
      "source": [
        "<a href=\"https://colab.research.google.com/github/SelinOlcay/ImageProcessing/blob/main/Week-2.ipynb\" target=\"_parent\"><img src=\"https://colab.research.google.com/assets/colab-badge.svg\" alt=\"Open In Colab\"/></a>"
      ]
    },
    {
      "cell_type": "code",
      "execution_count": 31,
      "metadata": {
        "colab": {
          "base_uri": "https://localhost:8080/"
        },
        "id": "gHavU_e1uUen",
        "outputId": "03d289db-57d3-4d2c-db0c-7585a5431b24"
      },
      "outputs": [
        {
          "output_type": "stream",
          "name": "stdout",
          "text": [
            "2340900\n",
            "uint8\n",
            "(867, 900, 3)\n"
          ]
        }
      ],
      "source": [
        "import cv2\n",
        "import numpy as np\n",
        "\n",
        "resim1 = cv2.imread(\"/content/moon.jpg\")\n",
        "\n",
        "print(resim1.size)\n",
        "\n",
        "print(resim1.dtype)\n",
        "\n",
        "print(resim1.shape)\n",
        "\n",
        "cv2.waitKey(0)\n",
        "cv2.destroyAllWindows()"
      ]
    },
    {
      "cell_type": "code",
      "source": [
        "import numpy as np\n",
        "import cv2\n",
        "import matplotlib.pyplot as plt\n",
        "\n",
        "row = 200\n",
        "col = 200\n",
        "img = np.zeros((row,col))\n",
        "img[50:55, :] = 1\n",
        "img[:, 50:55] = 1.5\n",
        "plt.figure(figsize=(5,2))\n",
        "plt.imshow(img)\n",
        "plt.show"
      ],
      "metadata": {
        "colab": {
          "base_uri": "https://localhost:8080/",
          "height": 178
        },
        "id": "pQckmW8DuaSb",
        "outputId": "6cec6b5e-2f26-4778-ffed-4c33d2c35915"
      },
      "execution_count": 32,
      "outputs": [
        {
          "output_type": "execute_result",
          "data": {
            "text/plain": [
              "<function matplotlib.pyplot.show(*args, **kw)>"
            ]
          },
          "metadata": {},
          "execution_count": 32
        },
        {
          "output_type": "display_data",
          "data": {
            "text/plain": [
              "<Figure size 360x144 with 1 Axes>"
            ],
            "image/png": "[encoded data removed]"
          },
          "metadata": {
            "needs_background": "light"
          }
        }
      ]
    },
    {
      "cell_type": "code",
      "source": [
        "import numpy as np\n",
        "\n",
        "a = np.array([[1, 2, 5],\n",
        "             [-7, 8, 9],\n",
        "             [5, 8, 9],\n",
        "             [0, 2, 22],])\n",
        "\n",
        "print(\"type:\", type(a))\n",
        "print(\"a =\", \"\\n\",a, \"\\n\")\n",
        "print(\"a[1] =\", a[1])\n",
        "print(\"a[1][2] =\", a[1][2])\n",
        "print(\"a[0][-1] =\", a[0][-1])"
      ],
      "metadata": {
        "colab": {
          "base_uri": "https://localhost:8080/"
        },
        "id": "dg31YorCyZ0B",
        "outputId": "30e62007-3c2d-44f6-ab81-613336a40388"
      },
      "execution_count": 33,
      "outputs": [
        {
          "output_type": "stream",
          "name": "stdout",
          "text": [
            "type: <class 'numpy.ndarray'>\n",
            "a = \n",
            " [[ 1  2  5]\n",
            " [-7  8  9]\n",
            " [ 5  8  9]\n",
            " [ 0  2 22]] \n",
            "\n",
            "a[1] = [-7  8  9]\n",
            "a[1][2] = 9\n",
            "a[0][-1] = 5\n"
          ]
        }
      ]
    },
    {
      "cell_type": "code",
      "source": [
        "import numpy as np\n",
        "C = np.array([[5, 5, 2],[4, 1, 4],[1, 6, 8]])\n",
        "C[:,2]"
      ],
      "metadata": {
        "colab": {
          "base_uri": "https://localhost:8080/"
        },
        "id": "WeYSdETxydwr",
        "outputId": "af42bec5-ff4d-482e-b8ec-c7711f992624"
      },
      "execution_count": 34,
      "outputs": [
        {
          "output_type": "execute_result",
          "data": {
            "text/plain": [
              "array([2, 4, 8])"
            ]
          },
          "metadata": {},
          "execution_count": 34
        }
      ]
    },
    {
      "cell_type": "code",
      "source": [
        "C = np.array([[5, 5, 2],[4, 1, 4],[1, 6, 8]])\n",
        "s = sum(C[ : ])\n",
        "print(s)\n",
        "a = sum(C)\n",
        "print(a)"
      ],
      "metadata": {
        "colab": {
          "base_uri": "https://localhost:8080/"
        },
        "id": "naky7TpAygIC",
        "outputId": "89baac62-6864-41f5-fef7-388842cfff69"
      },
      "execution_count": 35,
      "outputs": [
        {
          "output_type": "stream",
          "name": "stdout",
          "text": [
            "[10 12 14]\n",
            "[10 12 14]\n"
          ]
        }
      ]
    }
  ]
}